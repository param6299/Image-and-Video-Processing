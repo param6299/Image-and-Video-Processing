{
 "cells": [
  {
   "cell_type": "code",
   "execution_count": 1,
   "metadata": {},
   "outputs": [],
   "source": [
    "# Video Processing\n",
    "import cv2\n",
    "import matplotlib.pyplot as plt\n",
    "import numpy as np\n",
    "import glob"
   ]
  },
  {
   "cell_type": "code",
   "execution_count": 34,
   "metadata": {},
   "outputs": [],
   "source": [
    "# Open a video file\n",
    "\n",
    "vide = cv2.VideoCapture('nature.mp4')"
   ]
  },
  {
   "cell_type": "code",
   "execution_count": 35,
   "metadata": {},
   "outputs": [],
   "source": [
    "i=0\n",
    "# Extract each frame till last frame of video\n",
    "while(vide.isOpened()):\n",
    "    ret,frame=vide.read()\n",
    "    if ret==False:\n",
    "        break\n",
    "    cv2.imwrite('12 Photos/new'+str(i)+'.jpg',frame)\n",
    "    i=i+1"
   ]
  },
  {
   "cell_type": "code",
   "execution_count": 36,
   "metadata": {},
   "outputs": [
    {
     "data": {
      "text/plain": [
       "(720, 1280)"
      ]
     },
     "execution_count": 36,
     "metadata": {},
     "output_type": "execute_result"
    }
   ],
   "source": [
    "# Identify frames to be modified\n",
    "strt_fr = int(i/3)\n",
    "stp_fr = int(i/2)\n",
    "# Add a white patch in these frames\n",
    "\n",
    "img=cv2.imread('12 Photos/new1.jpg',0)\n",
    "sh=img.shape\n",
    "\n",
    "sh"
   ]
  },
  {
   "cell_type": "code",
   "execution_count": 37,
   "metadata": {},
   "outputs": [],
   "source": [
    "strt_rw=int(sh[0]*0.3)\n",
    "stop_rw=int(sh[0]*0.5)\n",
    "strt_col=int(sh[1]*0.3)\n",
    "stop_col=int(sh[1]*0.5)"
   ]
  },
  {
   "cell_type": "code",
   "execution_count": 38,
   "metadata": {},
   "outputs": [],
   "source": [
    "for j in range(strt_fr,stp_fr):\n",
    "    img=cv2.imread('12 Photos/new'+str(j)+'.jpg')\n",
    "    img[strt_rw:stop_rw,strt_col:stop_col]=255\n",
    "    \n",
    "# Replace old frames by new frames\n",
    "    cv2.imwrite('12 Photos/new'+str(j)+'.jpg',img)\n",
    "\n",
    "vide.release()\n",
    "cv2.destroyAllWindows()"
   ]
  },
  {
   "cell_type": "code",
   "execution_count": 39,
   "metadata": {},
   "outputs": [],
   "source": [
    "# Create a new video with modfified frames\n",
    "img_vid=[]\n",
    "for filen in glob.glob('12 Photos/new*.jpg'):\n",
    "    img = cv2.imread(filen)\n",
    "    height, width, layers = img.shape\n",
    "    size = (width,height)\n",
    "    img_vid.append(img)"
   ]
  },
  {
   "cell_type": "code",
   "execution_count": 40,
   "metadata": {},
   "outputs": [],
   "source": [
    "final=cv2.VideoWriter('new_video.avi',cv2.VideoWriter_fourcc(*'DIVX'),15,size)\n",
    "\n",
    "for i in range(len(img_vid)):\n",
    "    final.write(img_vid[i])\n",
    "    \n",
    "final.release()"
   ]
  },
  {
   "cell_type": "markdown",
   "metadata": {},
   "source": [
    "### Conclusion"
   ]
  },
  {
   "cell_type": "markdown",
   "metadata": {},
   "source": [
    "For video processing user can idtentify the frames to be modified and extract the frames to be modified.\n",
    "\n",
    "After modifing the frames a new video can be created using the modified frames.\n",
    "\n",
    "Various video processing techniques can be used to create a modified frame.\n",
    "\n",
    "In the experiment we have add a white patch to modify the frame."
   ]
  },
  {
   "cell_type": "code",
   "execution_count": null,
   "metadata": {},
   "outputs": [],
   "source": []
  }
 ],
 "metadata": {
  "kernelspec": {
   "display_name": "Python 3",
   "language": "python",
   "name": "python3"
  },
  "language_info": {
   "codemirror_mode": {
    "name": "ipython",
    "version": 3
   },
   "file_extension": ".py",
   "mimetype": "text/x-python",
   "name": "python",
   "nbconvert_exporter": "python",
   "pygments_lexer": "ipython3",
   "version": "3.7.3"
  }
 },
 "nbformat": 4,
 "nbformat_minor": 2
}
