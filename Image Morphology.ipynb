{
 "cells": [
  {
   "cell_type": "code",
   "execution_count": 1,
   "metadata": {},
   "outputs": [],
   "source": [
    "# Image morphology\n",
    "from skimage import io \n",
    "import numpy as np\n",
    "import matplotlib.pyplot as plt"
   ]
  },
  {
   "cell_type": "code",
   "execution_count": 9,
   "metadata": {},
   "outputs": [],
   "source": [
    "image = io.imread('bubbles.tif') # boolean image\n",
    "#io.imshow(image)\n",
    "image.astype(int)\n",
    "image = 255*image\n",
    "#image"
   ]
  },
  {
   "cell_type": "code",
   "execution_count": 15,
   "metadata": {},
   "outputs": [],
   "source": [
    "image = io.imread('squares.tif')"
   ]
  },
  {
   "cell_type": "code",
   "execution_count": 16,
   "metadata": {},
   "outputs": [],
   "source": [
    "#image = io.imread('bubbles.tif')\n",
    "#convert to binary\n",
    "sh=image.shape\n",
    "for r in range(0,sh[0]):\n",
    "    for c in range(0,sh[1]):\n",
    "        if image[r][c]>150:\n",
    "            image[r][c]=255\n",
    "        else:\n",
    "            image[r][c]=0"
   ]
  },
  {
   "cell_type": "code",
   "execution_count": 17,
   "metadata": {},
   "outputs": [],
   "source": [
    "im_erosion = image.copy()\n",
    "# Use structuring element of size 5\n",
    "sz = 5\n",
    "se = 255*(np.ones([sz,sz]))\n",
    "cent = int((sz-1)/2)"
   ]
  },
  {
   "cell_type": "code",
   "execution_count": 18,
   "metadata": {},
   "outputs": [],
   "source": [
    "#Erosion\n",
    "sh = image.shape\n",
    "row = sh[0]\n",
    "col = sh[1]\n",
    "\n",
    "for r in range(cent,row-cent):\n",
    "    for c in range(cent,col-cent):\n",
    "        temp = image[r-cent:r+cent+1,c-cent:c+cent+1]\n",
    "        if np.array_equal(temp,se):\n",
    "            im_erosion[r][c]=255\n",
    "        else:\n",
    "            im_erosion[r][c]=0"
   ]
  },
  {
   "cell_type": "code",
   "execution_count": 19,
   "metadata": {},
   "outputs": [],
   "source": [
    "# Dilation\n",
    "\n",
    "im_dilation=im_erosion.copy()\n",
    "for r in range(cent,row-cent):\n",
    "    for c in range(cent,col-cent):\n",
    "        temp = im_erosion[r-cent:r+cent+1,c-cent:c+cent+1]\n",
    "        if np.isin(255,temp):\n",
    "            im_dilation[r][c]=255\n",
    "        else:\n",
    "            im_dilation[r][c]=0"
   ]
  },
  {
   "cell_type": "code",
   "execution_count": 20,
   "metadata": {},
   "outputs": [
    {
     "data": {
      "text/plain": [
       "Text(0.5, 1.0, 'Dilated Image')"
      ]
     },
     "execution_count": 20,
     "metadata": {},
     "output_type": "execute_result"
    },
    {
     "data": {
      "image/png": "[encoded data removed]",
      "text/plain": [
       "<Figure size 720x720 with 3 Axes>"
      ]
     },
     "metadata": {
      "needs_background": "light"
     },
     "output_type": "display_data"
    }
   ],
   "source": [
    "plt.figure(figsize=(10,10))\n",
    "plt.subplot(1,3,1)\n",
    "io.imshow(image,cmap='gray')\n",
    "plt.title('Original Image')\n",
    "\n",
    "plt.subplot(1,3,2)\n",
    "io.imshow(im_erosion,cmap='gray')\n",
    "plt.title('Eroded Image')\n",
    "\n",
    "plt.subplot(1,3,3)\n",
    "io.imshow(im_dilation,cmap='gray')\n",
    "plt.title('Dilated Image')"
   ]
  },
  {
   "cell_type": "markdown",
   "metadata": {},
   "source": [
    "Conclusion:-\n",
    "\n",
    "Before applying morpholgy operation, image should be converted to gray or binary image.\n",
    "\n",
    "Erosion causes objects to reduce in size by half the size of structuring element, in both rows and columns.\n",
    "\n",
    "If eroded image is dilated than the eroded objects regain their size.\n",
    "\n",
    "In an image if a particular object is to be removed then size of structuring element should be larger then that object.\n",
    "\n",
    "In the given image 'square.tif' size of the structuring element was chosen to select larger squares.\n",
    "\n",
    "To apply morphology operation using binary structuring element image is first converted to binary before applying momrphology operations."
   ]
  },
  {
   "cell_type": "code",
   "execution_count": null,
   "metadata": {},
   "outputs": [],
   "source": []
  }
 ],
 "metadata": {
  "kernelspec": {
   "display_name": "Python 3",
   "language": "python",
   "name": "python3"
  },
  "language_info": {
   "codemirror_mode": {
    "name": "ipython",
    "version": 3
   },
   "file_extension": ".py",
   "mimetype": "text/x-python",
   "name": "python",
   "nbconvert_exporter": "python",
   "pygments_lexer": "ipython3",
   "version": "3.7.3"
  }
 },
 "nbformat": 4,
 "nbformat_minor": 2
}
